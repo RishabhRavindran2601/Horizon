{
 "cells": [
  {
   "cell_type": "code",
   "execution_count": 50,
   "metadata": {},
   "outputs": [],
   "source": [
    "import matplotlib as plt\n",
    "import pandas as pd\n",
    "import os\n",
    "import numpy as np\n",
    "os.chdir('D:')"
   ]
  },
  {
   "cell_type": "code",
   "execution_count": 51,
   "metadata": {},
   "outputs": [
    {
     "data": {
      "text/html": [
       "<div>\n",
       "<style scoped>\n",
       "    .dataframe tbody tr th:only-of-type {\n",
       "        vertical-align: middle;\n",
       "    }\n",
       "\n",
       "    .dataframe tbody tr th {\n",
       "        vertical-align: top;\n",
       "    }\n",
       "\n",
       "    .dataframe thead th {\n",
       "        text-align: right;\n",
       "    }\n",
       "</style>\n",
       "<table border=\"1\" class=\"dataframe\">\n",
       "  <thead>\n",
       "    <tr style=\"text-align: right;\">\n",
       "      <th></th>\n",
       "      <th>Title</th>\n",
       "      <th>Genre</th>\n",
       "      <th>Description</th>\n",
       "      <th>Director</th>\n",
       "      <th>Actors</th>\n",
       "      <th>Year</th>\n",
       "      <th>Runtime (Minutes)</th>\n",
       "      <th>Rating</th>\n",
       "      <th>Votes</th>\n",
       "      <th>Revenue (Millions)</th>\n",
       "      <th>...</th>\n",
       "      <th>Music</th>\n",
       "      <th>Musical</th>\n",
       "      <th>Mystery</th>\n",
       "      <th>Romance</th>\n",
       "      <th>Sci-Fi</th>\n",
       "      <th>Sport</th>\n",
       "      <th>Thriller</th>\n",
       "      <th>War</th>\n",
       "      <th>Western</th>\n",
       "      <th>Success</th>\n",
       "    </tr>\n",
       "    <tr>\n",
       "      <th>Rank</th>\n",
       "      <th></th>\n",
       "      <th></th>\n",
       "      <th></th>\n",
       "      <th></th>\n",
       "      <th></th>\n",
       "      <th></th>\n",
       "      <th></th>\n",
       "      <th></th>\n",
       "      <th></th>\n",
       "      <th></th>\n",
       "      <th></th>\n",
       "      <th></th>\n",
       "      <th></th>\n",
       "      <th></th>\n",
       "      <th></th>\n",
       "      <th></th>\n",
       "      <th></th>\n",
       "      <th></th>\n",
       "      <th></th>\n",
       "      <th></th>\n",
       "      <th></th>\n",
       "    </tr>\n",
       "  </thead>\n",
       "  <tbody>\n",
       "    <tr>\n",
       "      <th>1.0</th>\n",
       "      <td>Guardians of the Galaxy</td>\n",
       "      <td>Action,Adventure,Sci-Fi</td>\n",
       "      <td>A group of intergalactic criminals are forced ...</td>\n",
       "      <td>James Gunn</td>\n",
       "      <td>Chris Pratt, Vin Diesel, Bradley Cooper, Zoe S...</td>\n",
       "      <td>2014.0</td>\n",
       "      <td>121.0</td>\n",
       "      <td>8.1</td>\n",
       "      <td>757074.0</td>\n",
       "      <td>333.13</td>\n",
       "      <td>...</td>\n",
       "      <td>0.0</td>\n",
       "      <td>0.0</td>\n",
       "      <td>0.0</td>\n",
       "      <td>0.0</td>\n",
       "      <td>1.0</td>\n",
       "      <td>0.0</td>\n",
       "      <td>0.0</td>\n",
       "      <td>0.0</td>\n",
       "      <td>0.0</td>\n",
       "      <td>1.0</td>\n",
       "    </tr>\n",
       "    <tr>\n",
       "      <th>2.0</th>\n",
       "      <td>Prometheus</td>\n",
       "      <td>Adventure,Mystery,Sci-Fi</td>\n",
       "      <td>Following clues to the origin of mankind, a te...</td>\n",
       "      <td>Ridley Scott</td>\n",
       "      <td>Noomi Rapace, Logan Marshall-Green, Michael Fa...</td>\n",
       "      <td>2012.0</td>\n",
       "      <td>124.0</td>\n",
       "      <td>7.0</td>\n",
       "      <td>485820.0</td>\n",
       "      <td>126.46</td>\n",
       "      <td>...</td>\n",
       "      <td>0.0</td>\n",
       "      <td>0.0</td>\n",
       "      <td>1.0</td>\n",
       "      <td>0.0</td>\n",
       "      <td>1.0</td>\n",
       "      <td>0.0</td>\n",
       "      <td>0.0</td>\n",
       "      <td>0.0</td>\n",
       "      <td>0.0</td>\n",
       "      <td>1.0</td>\n",
       "    </tr>\n",
       "    <tr>\n",
       "      <th>3.0</th>\n",
       "      <td>Split</td>\n",
       "      <td>Horror,Thriller</td>\n",
       "      <td>Three girls are kidnapped by a man with a diag...</td>\n",
       "      <td>M. Night Shyamalan</td>\n",
       "      <td>James McAvoy, Anya Taylor-Joy, Haley Lu Richar...</td>\n",
       "      <td>2016.0</td>\n",
       "      <td>117.0</td>\n",
       "      <td>7.3</td>\n",
       "      <td>157606.0</td>\n",
       "      <td>138.12</td>\n",
       "      <td>...</td>\n",
       "      <td>0.0</td>\n",
       "      <td>0.0</td>\n",
       "      <td>0.0</td>\n",
       "      <td>0.0</td>\n",
       "      <td>0.0</td>\n",
       "      <td>0.0</td>\n",
       "      <td>1.0</td>\n",
       "      <td>0.0</td>\n",
       "      <td>0.0</td>\n",
       "      <td>0.0</td>\n",
       "    </tr>\n",
       "    <tr>\n",
       "      <th>4.0</th>\n",
       "      <td>Sing</td>\n",
       "      <td>Animation,Comedy,Family</td>\n",
       "      <td>In a city of humanoid animals, a hustling thea...</td>\n",
       "      <td>Christophe Lourdelet</td>\n",
       "      <td>Matthew McConaughey,Reese Witherspoon, Seth Ma...</td>\n",
       "      <td>2016.0</td>\n",
       "      <td>108.0</td>\n",
       "      <td>7.2</td>\n",
       "      <td>60545.0</td>\n",
       "      <td>270.32</td>\n",
       "      <td>...</td>\n",
       "      <td>0.0</td>\n",
       "      <td>0.0</td>\n",
       "      <td>0.0</td>\n",
       "      <td>0.0</td>\n",
       "      <td>0.0</td>\n",
       "      <td>0.0</td>\n",
       "      <td>0.0</td>\n",
       "      <td>0.0</td>\n",
       "      <td>0.0</td>\n",
       "      <td>0.0</td>\n",
       "    </tr>\n",
       "    <tr>\n",
       "      <th>5.0</th>\n",
       "      <td>Suicide Squad</td>\n",
       "      <td>Action,Adventure,Fantasy</td>\n",
       "      <td>A secret government agency recruits some of th...</td>\n",
       "      <td>David Ayer</td>\n",
       "      <td>Will Smith, Jared Leto, Margot Robbie, Viola D...</td>\n",
       "      <td>2016.0</td>\n",
       "      <td>123.0</td>\n",
       "      <td>6.2</td>\n",
       "      <td>393727.0</td>\n",
       "      <td>325.02</td>\n",
       "      <td>...</td>\n",
       "      <td>0.0</td>\n",
       "      <td>0.0</td>\n",
       "      <td>0.0</td>\n",
       "      <td>0.0</td>\n",
       "      <td>0.0</td>\n",
       "      <td>0.0</td>\n",
       "      <td>0.0</td>\n",
       "      <td>0.0</td>\n",
       "      <td>0.0</td>\n",
       "      <td>0.0</td>\n",
       "    </tr>\n",
       "  </tbody>\n",
       "</table>\n",
       "<p>5 rows × 32 columns</p>\n",
       "</div>"
      ],
      "text/plain": [
       "                        Title                     Genre  \\\n",
       "Rank                                                      \n",
       "1.0   Guardians of the Galaxy   Action,Adventure,Sci-Fi   \n",
       "2.0                Prometheus  Adventure,Mystery,Sci-Fi   \n",
       "3.0                     Split           Horror,Thriller   \n",
       "4.0                      Sing   Animation,Comedy,Family   \n",
       "5.0             Suicide Squad  Action,Adventure,Fantasy   \n",
       "\n",
       "                                            Description              Director  \\\n",
       "Rank                                                                            \n",
       "1.0   A group of intergalactic criminals are forced ...            James Gunn   \n",
       "2.0   Following clues to the origin of mankind, a te...          Ridley Scott   \n",
       "3.0   Three girls are kidnapped by a man with a diag...    M. Night Shyamalan   \n",
       "4.0   In a city of humanoid animals, a hustling thea...  Christophe Lourdelet   \n",
       "5.0   A secret government agency recruits some of th...            David Ayer   \n",
       "\n",
       "                                                 Actors    Year  \\\n",
       "Rank                                                              \n",
       "1.0   Chris Pratt, Vin Diesel, Bradley Cooper, Zoe S...  2014.0   \n",
       "2.0   Noomi Rapace, Logan Marshall-Green, Michael Fa...  2012.0   \n",
       "3.0   James McAvoy, Anya Taylor-Joy, Haley Lu Richar...  2016.0   \n",
       "4.0   Matthew McConaughey,Reese Witherspoon, Seth Ma...  2016.0   \n",
       "5.0   Will Smith, Jared Leto, Margot Robbie, Viola D...  2016.0   \n",
       "\n",
       "      Runtime (Minutes)  Rating     Votes  Revenue (Millions)  ...  Music  \\\n",
       "Rank                                                           ...          \n",
       "1.0               121.0     8.1  757074.0              333.13  ...    0.0   \n",
       "2.0               124.0     7.0  485820.0              126.46  ...    0.0   \n",
       "3.0               117.0     7.3  157606.0              138.12  ...    0.0   \n",
       "4.0               108.0     7.2   60545.0              270.32  ...    0.0   \n",
       "5.0               123.0     6.2  393727.0              325.02  ...    0.0   \n",
       "\n",
       "      Musical  Mystery  Romance  Sci-Fi  Sport  Thriller  War  Western  \\\n",
       "Rank                                                                     \n",
       "1.0       0.0      0.0      0.0     1.0    0.0       0.0  0.0      0.0   \n",
       "2.0       0.0      1.0      0.0     1.0    0.0       0.0  0.0      0.0   \n",
       "3.0       0.0      0.0      0.0     0.0    0.0       1.0  0.0      0.0   \n",
       "4.0       0.0      0.0      0.0     0.0    0.0       0.0  0.0      0.0   \n",
       "5.0       0.0      0.0      0.0     0.0    0.0       0.0  0.0      0.0   \n",
       "\n",
       "      Success  \n",
       "Rank           \n",
       "1.0       1.0  \n",
       "2.0       1.0  \n",
       "3.0       0.0  \n",
       "4.0       0.0  \n",
       "5.0       0.0  \n",
       "\n",
       "[5 rows x 32 columns]"
      ]
     },
     "execution_count": 51,
     "metadata": {},
     "output_type": "execute_result"
    }
   ],
   "source": [
    "data=pd.read_csv('movie_success_rate.csv',index_col=0,low_memory=False)\n",
    "data.head()"
   ]
  },
  {
   "cell_type": "code",
   "execution_count": 52,
   "metadata": {},
   "outputs": [
    {
     "data": {
      "text/plain": [
       "Title                 1\n",
       "Genre                 1\n",
       "Description           1\n",
       "Director              1\n",
       "Actors                1\n",
       "Year                  1\n",
       "Runtime (Minutes)     1\n",
       "Rating                0\n",
       "Votes                 0\n",
       "Revenue (Millions)    0\n",
       "Metascore             1\n",
       "Action                1\n",
       "Adventure             1\n",
       "Aniimation            1\n",
       "Biography             1\n",
       "Comedy                1\n",
       "Crime                 1\n",
       "Drama                 1\n",
       "Family                1\n",
       "Fantasy               1\n",
       "History               1\n",
       "Horror                1\n",
       "Music                 1\n",
       "Musical               1\n",
       "Mystery               1\n",
       "Romance               1\n",
       "Sci-Fi                1\n",
       "Sport                 1\n",
       "Thriller              1\n",
       "War                   1\n",
       "Western               1\n",
       "Success               1\n",
       "dtype: int64"
      ]
     },
     "execution_count": 52,
     "metadata": {},
     "output_type": "execute_result"
    }
   ],
   "source": [
    "data.isnull().sum()"
   ]
  },
  {
   "cell_type": "code",
   "execution_count": 53,
   "metadata": {
    "scrolled": false
   },
   "outputs": [
    {
     "data": {
      "text/plain": [
       "Title                 0\n",
       "Genre                 0\n",
       "Description           0\n",
       "Director              0\n",
       "Actors                0\n",
       "Year                  0\n",
       "Runtime (Minutes)     0\n",
       "Rating                0\n",
       "Votes                 0\n",
       "Revenue (Millions)    0\n",
       "Metascore             0\n",
       "Action                0\n",
       "Adventure             0\n",
       "Aniimation            0\n",
       "Biography             0\n",
       "Comedy                0\n",
       "Crime                 0\n",
       "Drama                 0\n",
       "Family                0\n",
       "Fantasy               0\n",
       "History               0\n",
       "Horror                0\n",
       "Music                 0\n",
       "Musical               0\n",
       "Mystery               0\n",
       "Romance               0\n",
       "Sci-Fi                0\n",
       "Sport                 0\n",
       "Thriller              0\n",
       "War                   0\n",
       "Western               0\n",
       "Success               0\n",
       "dtype: int64"
      ]
     },
     "execution_count": 53,
     "metadata": {},
     "output_type": "execute_result"
    }
   ],
   "source": [
    "data.fillna(method='ffill',inplace=True)\n",
    "data.isnull().sum()"
   ]
  },
  {
   "cell_type": "code",
   "execution_count": 54,
   "metadata": {},
   "outputs": [
    {
     "data": {
      "text/plain": [
       "Title                  object\n",
       "Genre                  object\n",
       "Director               object\n",
       "Actors                 object\n",
       "Year                  float64\n",
       "Runtime (Minutes)     float64\n",
       "Rating                float64\n",
       "Votes                 float64\n",
       "Revenue (Millions)    float64\n",
       "Metascore             float64\n",
       "Action                float64\n",
       "Adventure             float64\n",
       "Aniimation            float64\n",
       "Biography             float64\n",
       "Comedy                float64\n",
       "Crime                 float64\n",
       "Drama                 float64\n",
       "Family                float64\n",
       "Fantasy               float64\n",
       "History               float64\n",
       "Horror                float64\n",
       "Music                 float64\n",
       "Musical               float64\n",
       "Mystery               float64\n",
       "Romance               float64\n",
       "Sci-Fi                float64\n",
       "Sport                 float64\n",
       "Thriller              float64\n",
       "War                   float64\n",
       "Western               float64\n",
       "Success               float64\n",
       "dtype: object"
      ]
     },
     "execution_count": 54,
     "metadata": {},
     "output_type": "execute_result"
    }
   ],
   "source": [
    "data.drop('Description',axis=1,inplace=True)\n",
    "data.dtypes"
   ]
  },
  {
   "cell_type": "code",
   "execution_count": 55,
   "metadata": {},
   "outputs": [],
   "source": [
    "data.drop('Title',axis=1,inplace=True)\n",
    "data.drop('Genre',axis=1,inplace=True)\n"
   ]
  },
  {
   "cell_type": "code",
   "execution_count": 56,
   "metadata": {},
   "outputs": [
    {
     "data": {
      "text/plain": [
       "Ridley Scott          8\n",
       "David Yates           6\n",
       "Paul W.S. Anderson    6\n",
       "Michael Bay           6\n",
       "Christopher Nolan     5\n",
       "                     ..\n",
       "Tony Scott            1\n",
       "Damián Szifron        1\n",
       "Olivier Assayas       1\n",
       "Ari Sandel            1\n",
       "Dan Gilroy            1\n",
       "Name: Director, Length: 524, dtype: int64"
      ]
     },
     "execution_count": 56,
     "metadata": {},
     "output_type": "execute_result"
    }
   ],
   "source": [
    "data[\"Director\"].value_counts()"
   ]
  },
  {
   "cell_type": "code",
   "execution_count": 57,
   "metadata": {},
   "outputs": [
    {
     "data": {
      "text/plain": [
       "Shia LaBeouf, Megan Fox, Josh Duhamel, Tyrese Gibson                   2\n",
       "Kevin Spacey, Jennifer Garner, Robbie Amell,Cheryl Hines               2\n",
       "Daniel Radcliffe, Emma Watson, Rupert Grint, Michael Gambon            2\n",
       "Gerard Butler, Aaron Eckhart, Morgan Freeman,Angela Bassett            2\n",
       "Jennifer Lawrence, Josh Hutcherson, Liam Hemsworth, Woody Harrelson    2\n",
       "                                                                      ..\n",
       "Chris Evans, Alice Eve, Emma Fitzpatrick, John Cullum                  1\n",
       "Simon Pegg, Nick Frost, Seth Rogen, Mia Stallard                       1\n",
       "Zachary Gordon, Robert Capron, Devon Bostick,Steve Zahn                1\n",
       "Jason Bateman, Charlie Day, Jason Sudeikis, Steve Wiebe                1\n",
       "Michael Fassbender, Alicia Vikander, Rachel Weisz, Florence Clery      1\n",
       "Name: Actors, Length: 834, dtype: int64"
      ]
     },
     "execution_count": 57,
     "metadata": {},
     "output_type": "execute_result"
    }
   ],
   "source": [
    "data.shape\n",
    "data[\"Actors\"].value_counts()"
   ]
  },
  {
   "cell_type": "code",
   "execution_count": 58,
   "metadata": {},
   "outputs": [],
   "source": [
    "data.drop([\"Director\"],axis=1,inplace=True)\n",
    "data.drop([\"Actors\"],axis=1,inplace=True)"
   ]
  },
  {
   "cell_type": "code",
   "execution_count": 59,
   "metadata": {},
   "outputs": [
    {
     "data": {
      "text/plain": [
       "Year                  float64\n",
       "Runtime (Minutes)     float64\n",
       "Rating                float64\n",
       "Votes                 float64\n",
       "Revenue (Millions)    float64\n",
       "Metascore             float64\n",
       "Action                float64\n",
       "Adventure             float64\n",
       "Aniimation            float64\n",
       "Biography             float64\n",
       "Comedy                float64\n",
       "Crime                 float64\n",
       "Drama                 float64\n",
       "Family                float64\n",
       "Fantasy               float64\n",
       "History               float64\n",
       "Horror                float64\n",
       "Music                 float64\n",
       "Musical               float64\n",
       "Mystery               float64\n",
       "Romance               float64\n",
       "Sci-Fi                float64\n",
       "Sport                 float64\n",
       "Thriller              float64\n",
       "War                   float64\n",
       "Western               float64\n",
       "Success               float64\n",
       "dtype: object"
      ]
     },
     "execution_count": 59,
     "metadata": {},
     "output_type": "execute_result"
    }
   ],
   "source": [
    "data.dtypes"
   ]
  },
  {
   "cell_type": "code",
   "execution_count": 60,
   "metadata": {},
   "outputs": [
    {
     "data": {
      "text/plain": [
       "0.0    690\n",
       "1.0    149\n",
       "Name: Success, dtype: int64"
      ]
     },
     "execution_count": 60,
     "metadata": {},
     "output_type": "execute_result"
    }
   ],
   "source": [
    "data[\"Success\"].value_counts()"
   ]
  },
  {
   "cell_type": "code",
   "execution_count": 61,
   "metadata": {},
   "outputs": [],
   "source": [
    "X=data.iloc[:,0:-2]\n",
    "Y=data.iloc[:,-1]\n",
    "from sklearn.model_selection import train_test_split\n",
    "X_train, X_test, Y_train, Y_test = train_test_split(X, Y, random_state=1)"
   ]
  },
  {
   "cell_type": "code",
   "execution_count": 62,
   "metadata": {},
   "outputs": [],
   "source": [
    "from sklearn.ensemble import RandomForestClassifier\n",
    "forest=RandomForestClassifier(n_estimators=100)\n",
    "forest.fit(X_train,Y_train)\n",
    "\n",
    "YF_pred=forest.predict(X_test)"
   ]
  },
  {
   "cell_type": "code",
   "execution_count": 63,
   "metadata": {},
   "outputs": [],
   "source": [
    "from sklearn import metrics"
   ]
  },
  {
   "cell_type": "code",
   "execution_count": 64,
   "metadata": {},
   "outputs": [
    {
     "name": "stdout",
     "output_type": "stream",
     "text": [
      "Accuracy: 99.04761904761905 %\n"
     ]
    }
   ],
   "source": [
    "print(\"Accuracy:\",metrics.accuracy_score(Y_test, YF_pred)*100,\"%\")"
   ]
  },
  {
   "cell_type": "code",
   "execution_count": 65,
   "metadata": {},
   "outputs": [],
   "source": [
    "import numpy as np\n",
    "from flask import Flask, request, jsonify, render_template\n",
    "import pickle"
   ]
  },
  {
   "cell_type": "code",
   "execution_count": 66,
   "metadata": {},
   "outputs": [],
   "source": [
    "pickle.dump(forest, open('model.pkl','wb'))\n",
    "\n",
    "model = pickle.load(open('model.pkl','rb'))"
   ]
  },
  {
   "cell_type": "code",
   "execution_count": 69,
   "metadata": {},
   "outputs": [
    {
     "name": "stdout",
     "output_type": "stream",
     "text": [
      "[0.]\n"
     ]
    }
   ],
   "source": [
    "print(model.predict([[2012,109,7.7,192190,40.98,68,0,0,0,0,0,1,1,0,0,0,0,0,0,0,0,0,1,0,0]]))"
   ]
  },
  {
   "cell_type": "code",
   "execution_count": null,
   "metadata": {},
   "outputs": [],
   "source": []
  }
 ],
 "metadata": {
  "kernelspec": {
   "display_name": "Python 3",
   "language": "python",
   "name": "python3"
  },
  "language_info": {
   "codemirror_mode": {
    "name": "ipython",
    "version": 3
   },
   "file_extension": ".py",
   "mimetype": "text/x-python",
   "name": "python",
   "nbconvert_exporter": "python",
   "pygments_lexer": "ipython3",
   "version": "3.8.5"
  }
 },
 "nbformat": 4,
 "nbformat_minor": 4
}
